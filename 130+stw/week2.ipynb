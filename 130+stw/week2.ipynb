{
 "cells": [
  {
   "cell_type": "markdown",
   "id": "83f22338-0f01-4b9f-a911-31f6efb24d21",
   "metadata": {
    "jp-MarkdownHeadingCollapsed": true
   },
   "source": [
    "# 1.numpyOp"
   ]
  },
  {
   "cell_type": "code",
   "execution_count": 1,
   "id": "dea5bb71-25af-4927-9e34-afe1ee28358f",
   "metadata": {},
   "outputs": [],
   "source": [
    "import torch\n",
    "import numpy as np"
   ]
  },
  {
   "cell_type": "code",
   "execution_count": 28,
   "id": "38179e80-8017-4bca-983f-b76f7a04f926",
   "metadata": {},
   "outputs": [],
   "source": [
    "x = np.array([[1,2,3],[4,5,6]])"
   ]
  },
  {
   "cell_type": "code",
   "execution_count": 3,
   "id": "adcfc5f7-3ea6-4550-8bfc-8a4818d48482",
   "metadata": {},
   "outputs": [
    {
     "data": {
      "text/plain": [
       "2"
      ]
     },
     "execution_count": 3,
     "metadata": {},
     "output_type": "execute_result"
    }
   ],
   "source": [
    "x.ndim"
   ]
  },
  {
   "cell_type": "code",
   "execution_count": 4,
   "id": "eaaf4ac9-d215-4665-b342-6d0d840f03a1",
   "metadata": {},
   "outputs": [
    {
     "data": {
      "text/plain": [
       "(2, 3)"
      ]
     },
     "execution_count": 4,
     "metadata": {},
     "output_type": "execute_result"
    }
   ],
   "source": [
    "x.shape"
   ]
  },
  {
   "cell_type": "code",
   "execution_count": 5,
   "id": "0f571ade-0290-4003-a48b-08bd656229ca",
   "metadata": {},
   "outputs": [
    {
     "data": {
      "text/plain": [
       "6"
      ]
     },
     "execution_count": 5,
     "metadata": {},
     "output_type": "execute_result"
    }
   ],
   "source": [
    "x.size"
   ]
  },
  {
   "cell_type": "code",
   "execution_count": 7,
   "id": "a1c1775f-bc9d-4480-a59c-1fbf5305f864",
   "metadata": {},
   "outputs": [
    {
     "data": {
      "text/plain": [
       "(3,)"
      ]
     },
     "execution_count": 7,
     "metadata": {},
     "output_type": "execute_result"
    }
   ],
   "source": [
    "np.sum(x,axis=0).shape"
   ]
  },
  {
   "cell_type": "code",
   "execution_count": 8,
   "id": "771dbe5f-0fe8-4ceb-9e64-3421667f6ee8",
   "metadata": {},
   "outputs": [
    {
     "data": {
      "text/plain": [
       "array([[1.        , 1.41421356, 1.73205081],\n",
       "       [2.        , 2.23606798, 2.44948974]])"
      ]
     },
     "execution_count": 8,
     "metadata": {},
     "output_type": "execute_result"
    }
   ],
   "source": [
    "np.sqrt(x)"
   ]
  },
  {
   "cell_type": "code",
   "execution_count": 9,
   "id": "234cfafe-df5c-47f3-b6e5-de6deb32f0f7",
   "metadata": {},
   "outputs": [
    {
     "data": {
      "text/plain": [
       "array([[  2.71828183,   7.3890561 ,  20.08553692],\n",
       "       [ 54.59815003, 148.4131591 , 403.42879349]])"
      ]
     },
     "execution_count": 9,
     "metadata": {},
     "output_type": "execute_result"
    }
   ],
   "source": [
    "np.exp(x)"
   ]
  },
  {
   "cell_type": "code",
   "execution_count": 10,
   "id": "81d5df9f-9090-4d61-97c3-324f883877cc",
   "metadata": {},
   "outputs": [
    {
     "data": {
      "text/plain": [
       "array([[1, 4],\n",
       "       [2, 5],\n",
       "       [3, 6]])"
      ]
     },
     "execution_count": 10,
     "metadata": {},
     "output_type": "execute_result"
    }
   ],
   "source": [
    "x.transpose()"
   ]
  },
  {
   "cell_type": "code",
   "execution_count": 11,
   "id": "158d4ab6-ea44-4248-b710-0e366b7e13dc",
   "metadata": {},
   "outputs": [
    {
     "data": {
      "text/plain": [
       "array([1, 2, 3, 4, 5, 6])"
      ]
     },
     "execution_count": 11,
     "metadata": {},
     "output_type": "execute_result"
    }
   ],
   "source": [
    "x.flatten()"
   ]
  },
  {
   "cell_type": "code",
   "execution_count": 12,
   "id": "698fdc7a-bfd9-46cc-b2e0-2d4ccf5dd503",
   "metadata": {},
   "outputs": [
    {
     "data": {
      "text/plain": [
       "array([[[0., 0., 0., 0.],\n",
       "        [0., 0., 0., 0.],\n",
       "        [0., 0., 0., 0.]],\n",
       "\n",
       "       [[0., 0., 0., 0.],\n",
       "        [0., 0., 0., 0.],\n",
       "        [0., 0., 0., 0.]]])"
      ]
     },
     "execution_count": 12,
     "metadata": {},
     "output_type": "execute_result"
    }
   ],
   "source": [
    "np.zeros((2,3,4))"
   ]
  },
  {
   "cell_type": "code",
   "execution_count": 22,
   "id": "029a5787-603f-4f3f-a5e5-e34758949f64",
   "metadata": {},
   "outputs": [],
   "source": [
    "x = np.random.rand(3,4,5).shape"
   ]
  },
  {
   "cell_type": "code",
   "execution_count": 29,
   "id": "8d1893c9-8211-4080-8f31-614e7728f6e9",
   "metadata": {},
   "outputs": [],
   "source": [
    "x = torch.FloatTensor(x)"
   ]
  },
  {
   "cell_type": "code",
   "execution_count": 30,
   "id": "2ecd8b62-dae9-4ab7-9172-64498e49176e",
   "metadata": {},
   "outputs": [
    {
     "data": {
      "text/plain": [
       "tensor([[1., 2., 3.],\n",
       "        [4., 5., 6.]])"
      ]
     },
     "execution_count": 30,
     "metadata": {},
     "output_type": "execute_result"
    }
   ],
   "source": [
    "x"
   ]
  },
  {
   "cell_type": "code",
   "execution_count": 31,
   "id": "49dd7468-36ba-435a-9cdc-260330d52244",
   "metadata": {},
   "outputs": [
    {
     "data": {
      "text/plain": [
       "torch.Size([2, 3])"
      ]
     },
     "execution_count": 31,
     "metadata": {},
     "output_type": "execute_result"
    }
   ],
   "source": [
    "x.shape"
   ]
  },
  {
   "cell_type": "code",
   "execution_count": 32,
   "id": "21c1b3ab-7f9f-4d7d-85ec-d78835f95d0c",
   "metadata": {},
   "outputs": [
    {
     "data": {
      "text/plain": [
       "tensor([5., 7., 9.])"
      ]
     },
     "execution_count": 32,
     "metadata": {},
     "output_type": "execute_result"
    }
   ],
   "source": [
    "torch.sum(x,dim=0)"
   ]
  },
  {
   "cell_type": "code",
   "execution_count": 33,
   "id": "1112911a-7778-49cc-a154-e931992f4b32",
   "metadata": {},
   "outputs": [
    {
     "data": {
      "text/plain": [
       "tensor([[1., 4.],\n",
       "        [2., 5.],\n",
       "        [3., 6.]])"
      ]
     },
     "execution_count": 33,
     "metadata": {},
     "output_type": "execute_result"
    }
   ],
   "source": [
    "x.transpose(1,0)"
   ]
  },
  {
   "cell_type": "code",
   "execution_count": 34,
   "id": "e6534fd0-0a7b-47be-abaa-7df64ebbd745",
   "metadata": {},
   "outputs": [
    {
     "data": {
      "text/plain": [
       "tensor([[1., 4.],\n",
       "        [2., 5.],\n",
       "        [3., 6.]])"
      ]
     },
     "execution_count": 34,
     "metadata": {},
     "output_type": "execute_result"
    }
   ],
   "source": [
    "x.transpose(1,0)"
   ]
  },
  {
   "cell_type": "code",
   "execution_count": 36,
   "id": "1975af88-1e5f-4e29-8bdb-ad4f24abfe1a",
   "metadata": {},
   "outputs": [
    {
     "data": {
      "text/plain": [
       "\u001b[0;31mDocstring:\u001b[0m\n",
       "flatten(start_dim=0, end_dim=-1) -> Tensor\n",
       "\n",
       "See :func:`torch.flatten`\n",
       "\u001b[0;31mType:\u001b[0m      builtin_function_or_method"
      ]
     },
     "metadata": {},
     "output_type": "display_data"
    }
   ],
   "source": [
    "x.flatten??"
   ]
  },
  {
   "cell_type": "code",
   "execution_count": null,
   "id": "5b2726ad-3ab1-4085-9107-eb69d49c2600",
   "metadata": {},
   "outputs": [],
   "source": []
  },
  {
   "cell_type": "markdown",
   "id": "f1619de9-7e6d-496e-9a09-5ad0e4cd93ac",
   "metadata": {
    "jp-MarkdownHeadingCollapsed": true
   },
   "source": [
    "# 2.Softmax"
   ]
  },
  {
   "cell_type": "code",
   "execution_count": 37,
   "id": "f8700136-57c5-40a7-a3a2-d7f0a4e51379",
   "metadata": {},
   "outputs": [],
   "source": [
    "import torch\n",
    "import numpy"
   ]
  },
  {
   "cell_type": "code",
   "execution_count": 38,
   "id": "9d361288-ffa8-4c9c-a9c6-cc136d59dabe",
   "metadata": {},
   "outputs": [
    {
     "data": {
      "text/plain": [
       "'\\nsoftmax计算\\n'"
      ]
     },
     "execution_count": 38,
     "metadata": {},
     "output_type": "execute_result"
    }
   ],
   "source": [
    "\"\"\"\n",
    "softmax计算\n",
    "\"\"\""
   ]
  },
  {
   "cell_type": "code",
   "execution_count": 39,
   "id": "a4e90cc1-9d36-4327-8e8c-b41652de72ac",
   "metadata": {},
   "outputs": [],
   "source": [
    "def softmax(x):\n",
    "    res = []\n",
    "    for i in x:\n",
    "        res.append(numpy.exp(i))\n",
    "    res = [r / sum(res) for r in res]\n",
    "    return res"
   ]
  },
  {
   "cell_type": "code",
   "execution_count": 40,
   "id": "76092f1c-336e-404a-b3a9-c73b69dba690",
   "metadata": {},
   "outputs": [
    {
     "data": {
      "text/plain": [
       "2.718281828459045"
      ]
     },
     "execution_count": 40,
     "metadata": {},
     "output_type": "execute_result"
    }
   ],
   "source": [
    "numpy.exp(1)"
   ]
  },
  {
   "cell_type": "code",
   "execution_count": 41,
   "id": "98f2f7c9-e7b4-4308-80e3-955d5ce00ec1",
   "metadata": {},
   "outputs": [
    {
     "data": {
      "text/plain": [
       "7.38905609893065"
      ]
     },
     "execution_count": 41,
     "metadata": {},
     "output_type": "execute_result"
    }
   ],
   "source": [
    "numpy.exp(2)"
   ]
  },
  {
   "cell_type": "code",
   "execution_count": 42,
   "id": "8c2bd83e-a8fa-47e2-89ec-61dbaa921ec2",
   "metadata": {},
   "outputs": [],
   "source": [
    "x = numpy.array([1,2,3])"
   ]
  },
  {
   "cell_type": "code",
   "execution_count": 43,
   "id": "2508e24b-2271-43e5-9134-018f671fc6dc",
   "metadata": {},
   "outputs": [
    {
     "data": {
      "text/plain": [
       "[0.09003057317038046, 0.24472847105479767, 0.6652409557748219]"
      ]
     },
     "execution_count": 43,
     "metadata": {},
     "output_type": "execute_result"
    }
   ],
   "source": [
    "softmax(x)"
   ]
  },
  {
   "cell_type": "code",
   "execution_count": 48,
   "id": "5c395868-d7ca-4152-a8b4-259a7c7790fe",
   "metadata": {},
   "outputs": [
    {
     "name": "stdout",
     "output_type": "stream",
     "text": [
      "tensor([0.0900, 0.2447, 0.6652])\n"
     ]
    }
   ],
   "source": [
    "print(torch.softmax(torch.Tensor(x),dim=0))"
   ]
  },
  {
   "cell_type": "markdown",
   "id": "b11e48a1-38e6-433d-813c-63fa307b1fe6",
   "metadata": {
    "jp-MarkdownHeadingCollapsed": true
   },
   "source": [
    "# 3.CrossEntropy"
   ]
  },
  {
   "cell_type": "code",
   "execution_count": 75,
   "id": "f982f1f9-5d68-4b4d-9b0a-4dfb8abd7d39",
   "metadata": {},
   "outputs": [],
   "source": [
    "import torch\n",
    "import torch.nn as nn\n",
    "import numpy as np"
   ]
  },
  {
   "cell_type": "code",
   "execution_count": 51,
   "id": "1a3a1c49-2d31-4e8d-993d-384e6a4e52af",
   "metadata": {},
   "outputs": [
    {
     "data": {
      "text/plain": [
       "'\\n手动实现交叉熵的计算\\n'"
      ]
     },
     "execution_count": 51,
     "metadata": {},
     "output_type": "execute_result"
    }
   ],
   "source": [
    "'''\n",
    "手动实现交叉熵的计算\n",
    "'''"
   ]
  },
  {
   "cell_type": "code",
   "execution_count": 76,
   "id": "360e4bf5-ed9d-4a20-a2d9-1ebd05a60b3e",
   "metadata": {},
   "outputs": [],
   "source": [
    "#使用torch计算交叉熵\n",
    "ce_loss = nn.CrossEntropyLoss()"
   ]
  },
  {
   "cell_type": "code",
   "execution_count": 77,
   "id": "6cc7e78a-cc78-4134-b3b0-3c920a80500c",
   "metadata": {},
   "outputs": [],
   "source": [
    "#假设有3个样本，每个都在做3分类\n",
    "pred = torch.FloatTensor([[0.3,0.1,0.3],\n",
    "                          [0.9,0.05,0.05],\n",
    "                          [0.5,0.4,0.2]])"
   ]
  },
  {
   "cell_type": "code",
   "execution_count": 78,
   "id": "0721d04f-766d-4f92-8180-4db80f57bc28",
   "metadata": {},
   "outputs": [],
   "source": [
    "# 正确类别分别为1，2，0"
   ]
  },
  {
   "cell_type": "code",
   "execution_count": 79,
   "id": "6f0b9c6e-9f9e-4d8d-8bb0-8d35d8d6713d",
   "metadata": {},
   "outputs": [],
   "source": [
    "target = torch.LongTensor([1,2,0])"
   ]
  },
  {
   "cell_type": "code",
   "execution_count": 80,
   "id": "985b8369-38ee-4e6a-8435-5c4e24e0aa15",
   "metadata": {},
   "outputs": [],
   "source": [
    "loss = ce_loss(pred, target)"
   ]
  },
  {
   "cell_type": "code",
   "execution_count": 81,
   "id": "9ecd6079-e95e-444d-8a47-4f2df063cfcb",
   "metadata": {},
   "outputs": [
    {
     "data": {
      "text/plain": [
       "tensor(1.2257)"
      ]
     },
     "execution_count": 81,
     "metadata": {},
     "output_type": "execute_result"
    }
   ],
   "source": [
    "loss"
   ]
  },
  {
   "cell_type": "code",
   "execution_count": 82,
   "id": "c67c0a12-dfe7-487d-ae6a-e26304856ac4",
   "metadata": {},
   "outputs": [],
   "source": [
    "#实现softmax函数\n",
    "def softmax(matrix):\n",
    "    return np.exp(matrix) / np.sum(np.exp(matrix), axis=1, keepdims=True)"
   ]
  },
  {
   "cell_type": "code",
   "execution_count": 83,
   "id": "950e0ac6-21dd-4aa5-aded-7c71b79cbdd6",
   "metadata": {},
   "outputs": [],
   "source": [
    "# Tip 这里 keepdims 意为保持维度\n",
    "x = np.array([[1,2,3],\n",
    "              [4,5,6]])\n",
    "x_sum = np.sum(x, axis=0)\n",
    "x_sum2 = np.sum(x,axis=0, keepdims=True)"
   ]
  },
  {
   "cell_type": "code",
   "execution_count": 84,
   "id": "192ec009-edfb-467c-b28f-2ef4018bec8a",
   "metadata": {},
   "outputs": [
    {
     "name": "stdout",
     "output_type": "stream",
     "text": [
      "[5 7 9]\n",
      "[[5 7 9]]\n"
     ]
    }
   ],
   "source": [
    "print(x_sum) # [3]\n",
    "print(x_sum2)  # [1,3]"
   ]
  },
  {
   "cell_type": "code",
   "execution_count": 85,
   "id": "b526be92-76d2-4291-b228-c1685dfb2076",
   "metadata": {},
   "outputs": [],
   "source": [
    "def to_one_hot(target, shape):\n",
    "    one_hot_target = np.zeros(shape)\n",
    "    for i,t in enumerate(target):\n",
    "        one_hot_target[i][t] = 1\n",
    "    return one_hot_target"
   ]
  },
  {
   "cell_type": "code",
   "execution_count": 87,
   "id": "f51e8898-2104-46af-a480-85168ea22250",
   "metadata": {},
   "outputs": [
    {
     "data": {
      "text/plain": [
       "tensor([[0.3000, 0.1000, 0.3000],\n",
       "        [0.9000, 0.0500, 0.0500],\n",
       "        [0.5000, 0.4000, 0.2000]])"
      ]
     },
     "execution_count": 87,
     "metadata": {},
     "output_type": "execute_result"
    }
   ],
   "source": [
    "pred"
   ]
  },
  {
   "cell_type": "code",
   "execution_count": 88,
   "id": "4a1f46ec-419e-4804-867e-23bb44ba4381",
   "metadata": {},
   "outputs": [
    {
     "data": {
      "text/plain": [
       "array([[0.3547696 , 0.2904608 , 0.3547696 ],\n",
       "       [0.539133  , 0.2304335 , 0.2304335 ],\n",
       "       [0.37797815, 0.34200877, 0.2800131 ]], dtype=float32)"
      ]
     },
     "execution_count": 88,
     "metadata": {},
     "output_type": "execute_result"
    }
   ],
   "source": [
    "softmax(pred.numpy())"
   ]
  },
  {
   "cell_type": "code",
   "execution_count": 89,
   "id": "459d4d66-acba-40a0-b98f-8c66b6cbdfc2",
   "metadata": {},
   "outputs": [],
   "source": [
    "def cross_entropy(pred, target):\n",
    "    batch_size, class_num = pred.shape\n",
    "    pred = softmax(pred)\n",
    "    print(pred)\n",
    "    target = to_one_hot(target, pred.shape)\n",
    "    entropy = - np.sum(target * np.log(pred), axis=1)\n",
    "    return sum(entropy) / batch_size"
   ]
  },
  {
   "cell_type": "code",
   "execution_count": 90,
   "id": "eb1a4215-d744-42c8-b204-bd16b92da884",
   "metadata": {},
   "outputs": [
    {
     "name": "stdout",
     "output_type": "stream",
     "text": [
      "[[0.3547696  0.2904608  0.3547696 ]\n",
      " [0.539133   0.2304335  0.2304335 ]\n",
      " [0.37797815 0.34200877 0.2800131 ]]\n"
     ]
    },
    {
     "data": {
      "text/plain": [
       "1.2256661653518677"
      ]
     },
     "execution_count": 90,
     "metadata": {},
     "output_type": "execute_result"
    }
   ],
   "source": [
    "cross_entropy(pred.numpy(), target.numpy())"
   ]
  },
  {
   "cell_type": "markdown",
   "id": "0e5658ee-b328-4f88-81dc-ab62fb3445ce",
   "metadata": {
    "jp-MarkdownHeadingCollapsed": true
   },
   "source": [
    "# 4.DNNforward"
   ]
  },
  {
   "cell_type": "code",
   "execution_count": 91,
   "id": "c9d70980-90e3-4d58-81e9-c584610c4c02",
   "metadata": {},
   "outputs": [],
   "source": [
    "#coding:utf8\n",
    "\n",
    "import torch\n",
    "import torch.nn as nn\n",
    "import numpy as np\n"
   ]
  },
  {
   "cell_type": "code",
   "execution_count": 92,
   "id": "47f93a0b-54ef-4472-8b97-4287c0b1f3cf",
   "metadata": {},
   "outputs": [
    {
     "data": {
      "text/plain": [
       "'\\nnumpy手动实现模拟一个线性层\\n'"
      ]
     },
     "execution_count": 92,
     "metadata": {},
     "output_type": "execute_result"
    }
   ],
   "source": [
    "\"\"\"\n",
    "numpy手动实现模拟一个线性层\n",
    "\"\"\"\n",
    "\n",
    "#搭建一个2层的神经网络模型\n",
    "#每层都是线性层"
   ]
  },
  {
   "cell_type": "code",
   "execution_count": 93,
   "id": "8614b0c6-6e43-4ea9-9821-c86d6508da65",
   "metadata": {},
   "outputs": [],
   "source": [
    "class TorchModel(nn.Module):\n",
    "    def __init__(self, input_size, hidden_size1, hidden_size2):\n",
    "        super(TorchModel, self).__init__()\n",
    "        self.layer1 = nn.Linear(input_size, hidden_size1)\n",
    "        self.layer2 = nn.Linear(hidden_size1, hidden_size2) # 5 * 2\n",
    "\n",
    "    def forward(self, x):\n",
    "        x = self.layer1(x)   #shape: (batch_size, input_size) -> (batch_size, hidden_size1) \n",
    "        y_pred = self.layer2(x) #shape: (batch_size, hidden_size1) -> (batch_size, hidden_size2) \n",
    "        return y_pred "
   ]
  },
  {
   "cell_type": "code",
   "execution_count": 94,
   "id": "5420eedb-55af-47c4-965a-1bbfc0f2e8d0",
   "metadata": {},
   "outputs": [],
   "source": [
    "#自定义模型\n",
    "class DiyModel:\n",
    "    def __init__(self, w1, b1, w2, b2):\n",
    "        self.w1 = w1\n",
    "        self.b1 = b1\n",
    "        self.w2 = w2\n",
    "        self.b2 = b2\n",
    "\n",
    "    def forward(self, x):\n",
    "        hidden = np.dot(x, self.w1.T) + self.b1 #1*5\n",
    "        y_pred = np.dot(hidden, self.w2.T) + self.b2 #1*2\n",
    "        return y_pred"
   ]
  },
  {
   "cell_type": "code",
   "execution_count": 95,
   "id": "733b4488-9b86-4c27-8992-17446aaac6eb",
   "metadata": {},
   "outputs": [],
   "source": [
    "#随便准备一个网络输入\n",
    "x = np.array([[3.1, 1.3, 1.2],\n",
    "              [2.1, 1.3, 13]])"
   ]
  },
  {
   "cell_type": "code",
   "execution_count": 96,
   "id": "6e2086f2-bbce-4403-97d3-cb8c41de67ee",
   "metadata": {},
   "outputs": [],
   "source": [
    "#建立torch模型\n",
    "torch_model = TorchModel(3, 5, 2)"
   ]
  },
  {
   "cell_type": "code",
   "execution_count": 98,
   "id": "bd30353c-a2f4-4fc8-95c8-53e6868b785f",
   "metadata": {},
   "outputs": [
    {
     "data": {
      "text/plain": [
       "OrderedDict([('layer1.weight',\n",
       "              tensor([[ 0.4007, -0.2930,  0.3913],\n",
       "                      [-0.0142, -0.3785,  0.1801],\n",
       "                      [ 0.1729, -0.0227,  0.1753],\n",
       "                      [ 0.5553,  0.5516, -0.4804],\n",
       "                      [ 0.1247,  0.1266,  0.1905]])),\n",
       "             ('layer1.bias',\n",
       "              tensor([-0.4322,  0.3809, -0.0446, -0.3093, -0.5108])),\n",
       "             ('layer2.weight',\n",
       "              tensor([[ 0.0319, -0.0635,  0.2252, -0.1851,  0.1906],\n",
       "                      [ 0.1623,  0.3518, -0.4289,  0.2526, -0.3399]])),\n",
       "             ('layer2.bias', tensor([0.2456, 0.0129]))])"
      ]
     },
     "execution_count": 98,
     "metadata": {},
     "output_type": "execute_result"
    }
   ],
   "source": [
    "torch_model.state_dict()"
   ]
  },
  {
   "cell_type": "code",
   "execution_count": 102,
   "id": "0ff5d26a-ab7e-43e5-8898-a8232ad82ae6",
   "metadata": {},
   "outputs": [],
   "source": [
    "torch_model_w1 = torch_model.state_dict()['layer1.weight'].numpy()"
   ]
  },
  {
   "cell_type": "code",
   "execution_count": 104,
   "id": "ba33647f-ee85-44ea-b500-f57590c4637c",
   "metadata": {},
   "outputs": [
    {
     "name": "stdout",
     "output_type": "stream",
     "text": [
      "[[ 0.40067965 -0.2929584   0.39127517]\n",
      " [-0.0142241  -0.37850785  0.18005037]\n",
      " [ 0.17285115 -0.02269335  0.175297  ]\n",
      " [ 0.5552606   0.5516181  -0.48043093]\n",
      " [ 0.12473792  0.12660639  0.19050358]] torch w1 权重\n",
      "[-0.43215555  0.38092595 -0.04461476 -0.30930185 -0.51084715] torch b1 权重\n",
      "-----------\n",
      "[[ 0.03188037 -0.06350868  0.22515813 -0.1851046   0.19063571]\n",
      " [ 0.1623491   0.35180897 -0.42890143  0.25264424 -0.33990866]] torch w2 权重\n",
      "[0.24561757 0.01290529] torch b2 权重\n",
      "-----------\n"
     ]
    }
   ],
   "source": [
    "#打印模型权重，权重为随机初始化\n",
    "torch_model_w1 = torch_model.state_dict()[\"layer1.weight\"].numpy()\n",
    "torch_model_b1 = torch_model.state_dict()[\"layer1.bias\"].numpy()\n",
    "torch_model_w2 = torch_model.state_dict()[\"layer2.weight\"].numpy()\n",
    "torch_model_b2 = torch_model.state_dict()[\"layer2.bias\"].numpy()\n",
    "print(torch_model_w1, \"torch w1 权重\")\n",
    "print(torch_model_b1, \"torch b1 权重\")\n",
    "print(\"-----------\")\n",
    "print(torch_model_w2, \"torch w2 权重\")\n",
    "print(torch_model_b2, \"torch b2 权重\")\n",
    "print(\"-----------\")"
   ]
  },
  {
   "cell_type": "code",
   "execution_count": 105,
   "id": "408f6428-c705-41bf-a6fa-c3ff4092d9f2",
   "metadata": {},
   "outputs": [
    {
     "data": {
      "text/plain": [
       "(5,)"
      ]
     },
     "execution_count": 105,
     "metadata": {},
     "output_type": "execute_result"
    }
   ],
   "source": [
    "torch_model_b1.shape"
   ]
  },
  {
   "cell_type": "code",
   "execution_count": 106,
   "id": "964b4e1f-3c4f-4e95-850c-2a55d5dffccb",
   "metadata": {},
   "outputs": [
    {
     "name": "stdout",
     "output_type": "stream",
     "text": [
      "torch模型预测结果： tensor([[ 0.1856,  0.1928],\n",
      "        [ 2.1679, -1.4776]], grad_fn=<AddmmBackward0>)\n"
     ]
    }
   ],
   "source": [
    "#使用torch模型做预测\n",
    "torch_x = torch.FloatTensor(x)\n",
    "y_pred = torch_model.forward(torch_x)\n",
    "print(\"torch模型预测结果：\", y_pred)"
   ]
  },
  {
   "cell_type": "code",
   "execution_count": 107,
   "id": "4e58cb78-d34b-4946-99ca-f09188c198d0",
   "metadata": {},
   "outputs": [
    {
     "name": "stdout",
     "output_type": "stream",
     "text": [
      "diy模型预测结果： [[ 0.1856224   0.19275035]\n",
      " [ 2.16794354 -1.47755979]]\n"
     ]
    }
   ],
   "source": [
    "\n",
    "# #把torch模型权重拿过来自己实现计算过程\n",
    "diy_model = DiyModel(torch_model_w1, torch_model_b1, torch_model_w2, torch_model_b2)\n",
    "# #用自己的模型来预测\n",
    "y_pred_diy = diy_model.forward(np.array(x))\n",
    "print(\"diy模型预测结果：\", y_pred_diy)"
   ]
  },
  {
   "cell_type": "code",
   "execution_count": 109,
   "id": "7e6ff044-74c0-44d7-98b7-bda1bca7ab8e",
   "metadata": {},
   "outputs": [
    {
     "data": {
      "text/plain": [
       "(2, 3)"
      ]
     },
     "execution_count": 109,
     "metadata": {},
     "output_type": "execute_result"
    }
   ],
   "source": [
    "x.shape"
   ]
  },
  {
   "cell_type": "code",
   "execution_count": 110,
   "id": "4c784bf3-cf33-42f6-899f-7a53fe09d8f7",
   "metadata": {},
   "outputs": [
    {
     "data": {
      "text/plain": [
       "array([[ 1.33079118, -0.32009447,  0.7166936 ,  1.86189427,  0.77988015],\n",
       "       [ 5.54715851,  1.81872403,  2.61234713, -4.36245131,  2.90308451]])"
      ]
     },
     "execution_count": 110,
     "metadata": {},
     "output_type": "execute_result"
    }
   ],
   "source": [
    "np.dot(np.array(x),torch_model_w1.T)"
   ]
  },
  {
   "cell_type": "markdown",
   "id": "cbf38899-c522-4d5e-98d3-a1a176d800f4",
   "metadata": {
    "jp-MarkdownHeadingCollapsed": true
   },
   "source": [
    "# 5.Gradient Descent"
   ]
  },
  {
   "cell_type": "code",
   "execution_count": 112,
   "id": "f8e3e243-411f-46ed-a872-06ba1109c8cd",
   "metadata": {},
   "outputs": [],
   "source": [
    "import matplotlib.pyplot as pyplot\n",
    "import math\n",
    "import sys\n",
    "\n"
   ]
  },
  {
   "cell_type": "code",
   "execution_count": 113,
   "id": "a48ee05e-3e42-4465-a7ec-c9868ac11788",
   "metadata": {},
   "outputs": [
    {
     "name": "stdout",
     "output_type": "stream",
     "text": [
      "[0.0, 0.01, 0.02, 0.03, 0.04, 0.05, 0.06, 0.07, 0.08, 0.09, 0.1, 0.11, 0.12, 0.13, 0.14, 0.15, 0.16, 0.17, 0.18, 0.19, 0.2, 0.21, 0.22, 0.23, 0.24, 0.25, 0.26, 0.27, 0.28, 0.29, 0.3, 0.31, 0.32, 0.33, 0.34, 0.35000000000000003, 0.36, 0.37, 0.38, 0.39, 0.4, 0.41000000000000003, 0.42, 0.43, 0.44, 0.45, 0.46, 0.47000000000000003, 0.48, 0.49, 0.5, 0.51, 0.52, 0.53, 0.54, 0.55, 0.56, 0.5700000000000001, 0.58, 0.59, 0.6, 0.61, 0.62, 0.63, 0.64, 0.65, 0.66, 0.67, 0.68, 0.6900000000000001, 0.7000000000000001, 0.71, 0.72, 0.73, 0.74, 0.75, 0.76, 0.77, 0.78, 0.79, 0.8, 0.81, 0.8200000000000001, 0.8300000000000001, 0.84, 0.85, 0.86, 0.87, 0.88, 0.89, 0.9, 0.91, 0.92, 0.93, 0.9400000000000001, 0.9500000000000001, 0.96, 0.97, 0.98, 0.99]\n",
      "[4.0, 4.0302, 4.0608, 4.0918, 4.1232, 4.155, 4.1872, 4.2198, 4.2528, 4.2862, 4.32, 4.3542, 4.3888, 4.4238, 4.4592, 4.495, 4.5312, 4.5678, 4.6048, 4.6422, 4.68, 4.7181999999999995, 4.7568, 4.7958, 4.8352, 4.875, 4.9152000000000005, 4.9558, 4.9968, 5.0382, 5.08, 5.122199999999999, 5.1648, 5.2078, 5.2512, 5.295, 5.3392, 5.3838, 5.4288, 5.4742, 5.5200000000000005, 5.5662, 5.6128, 5.6598, 5.7072, 5.755, 5.8032, 5.851800000000001, 5.9008, 5.9502, 6.0, 6.0502, 6.1008, 6.1518, 6.203200000000001, 6.255000000000001, 6.3072, 6.3598, 6.4128, 6.4662, 6.52, 6.5742, 6.6288, 6.6838, 6.7392, 6.795, 6.8512, 6.9078, 6.9648, 7.022200000000001, 7.08, 7.138199999999999, 7.1968, 7.2558, 7.3152, 7.375, 7.4352, 7.4958, 7.5568, 7.6182, 7.680000000000001, 7.7422, 7.8048, 7.867800000000001, 7.9312, 7.994999999999999, 8.0592, 8.1238, 8.1888, 8.2542, 8.32, 8.3862, 8.4528, 8.5198, 8.587200000000001, 8.655000000000001, 8.7232, 8.7918, 8.8608, 8.9302]\n"
     ]
    },
    {
     "data": {
      "image/png": "[encoded data removed]",
      "text/plain": [
       "<Figure size 640x480 with 1 Axes>"
      ]
     },
     "metadata": {},
     "output_type": "display_data"
    }
   ],
   "source": [
    "X = [0.01 * x for x in range(100)]\n",
    "Y = [2*x**2 + 3*x + 4 for x in X]\n",
    "print(X)\n",
    "print(Y)\n",
    "pyplot.scatter(X, Y, color='red')\n",
    "pyplot.show()"
   ]
  },
  {
   "cell_type": "code",
   "execution_count": 114,
   "id": "ecba2b6b-e453-4c18-8a58-47a30ea773a9",
   "metadata": {},
   "outputs": [],
   "source": [
    "def func(x):\n",
    "    y = w1 * x ** 2 + w2 *x +w3\n",
    "    return y"
   ]
  },
  {
   "cell_type": "code",
   "execution_count": 117,
   "id": "c749420c-9476-4b08-a237-52f64e464b38",
   "metadata": {},
   "outputs": [],
   "source": [
    "\n",
    "def loss(y_pred, y_true):\n",
    "    return (y_pred - y_true) ** 2"
   ]
  },
  {
   "cell_type": "code",
   "execution_count": 118,
   "id": "071928a8-25e7-4891-8717-36ba191d0f2a",
   "metadata": {
    "scrolled": true
   },
   "outputs": [
    {
     "name": "stdout",
     "output_type": "stream",
     "text": [
      "第0轮， loss 0.299343\n",
      "第1轮， loss 0.289462\n",
      "第2轮， loss 0.098739\n",
      "第3轮， loss 0.032223\n",
      "第4轮， loss 0.009726\n",
      "第5轮， loss 0.002547\n",
      "第6轮， loss 0.000525\n",
      "第7轮， loss 0.000134\n",
      "第8轮， loss 0.000189\n",
      "第9轮， loss 0.000321\n",
      "第10轮， loss 0.000429\n",
      "第11轮， loss 0.000498\n",
      "第12轮， loss 0.000536\n",
      "第13轮， loss 0.000551\n",
      "第14轮， loss 0.000553\n",
      "第15轮， loss 0.000547\n",
      "第16轮， loss 0.000535\n",
      "第17轮， loss 0.000521\n",
      "第18轮， loss 0.000506\n",
      "第19轮， loss 0.000490\n",
      "第20轮， loss 0.000474\n",
      "第21轮， loss 0.000458\n",
      "第22轮， loss 0.000443\n",
      "第23轮， loss 0.000428\n",
      "第24轮， loss 0.000413\n",
      "第25轮， loss 0.000399\n",
      "第26轮， loss 0.000385\n",
      "第27轮， loss 0.000372\n",
      "第28轮， loss 0.000359\n",
      "第29轮， loss 0.000347\n",
      "第30轮， loss 0.000335\n",
      "第31轮， loss 0.000323\n",
      "第32轮， loss 0.000312\n",
      "第33轮， loss 0.000301\n",
      "第34轮， loss 0.000291\n",
      "第35轮， loss 0.000281\n",
      "第36轮， loss 0.000271\n",
      "第37轮， loss 0.000261\n",
      "第38轮， loss 0.000252\n",
      "第39轮， loss 0.000244\n",
      "第40轮， loss 0.000235\n",
      "第41轮， loss 0.000227\n",
      "第42轮， loss 0.000219\n",
      "第43轮， loss 0.000212\n",
      "第44轮， loss 0.000204\n",
      "第45轮， loss 0.000197\n",
      "第46轮， loss 0.000190\n",
      "第47轮， loss 0.000184\n",
      "第48轮， loss 0.000178\n",
      "第49轮， loss 0.000171\n",
      "第50轮， loss 0.000165\n",
      "第51轮， loss 0.000160\n",
      "第52轮， loss 0.000154\n",
      "第53轮， loss 0.000149\n",
      "第54轮， loss 0.000144\n",
      "第55轮， loss 0.000139\n",
      "第56轮， loss 0.000134\n",
      "第57轮， loss 0.000129\n",
      "第58轮， loss 0.000125\n",
      "第59轮， loss 0.000121\n",
      "第60轮， loss 0.000116\n",
      "第61轮， loss 0.000112\n",
      "第62轮， loss 0.000108\n",
      "第63轮， loss 0.000105\n",
      "第64轮， loss 0.000101\n",
      "第65轮， loss 0.000098\n",
      "第66轮， loss 0.000094\n",
      "第67轮， loss 0.000091\n",
      "第68轮， loss 0.000088\n",
      "第69轮， loss 0.000085\n",
      "第70轮， loss 0.000082\n",
      "第71轮， loss 0.000079\n",
      "第72轮， loss 0.000076\n",
      "第73轮， loss 0.000074\n",
      "第74轮， loss 0.000071\n",
      "第75轮， loss 0.000069\n",
      "第76轮， loss 0.000066\n",
      "第77轮， loss 0.000064\n",
      "第78轮， loss 0.000062\n",
      "第79轮， loss 0.000060\n",
      "第80轮， loss 0.000058\n",
      "第81轮， loss 0.000056\n",
      "第82轮， loss 0.000054\n",
      "第83轮， loss 0.000052\n",
      "第84轮， loss 0.000050\n",
      "第85轮， loss 0.000048\n",
      "第86轮， loss 0.000047\n",
      "第87轮， loss 0.000045\n",
      "第88轮， loss 0.000043\n",
      "第89轮， loss 0.000042\n",
      "第90轮， loss 0.000040\n",
      "第91轮， loss 0.000039\n",
      "第92轮， loss 0.000038\n",
      "第93轮， loss 0.000036\n",
      "第94轮， loss 0.000035\n",
      "第95轮， loss 0.000034\n",
      "第96轮， loss 0.000033\n",
      "第97轮， loss 0.000032\n",
      "第98轮， loss 0.000031\n",
      "第99轮， loss 0.000029\n",
      "第100轮， loss 0.000028\n",
      "第101轮， loss 0.000027\n",
      "第102轮， loss 0.000027\n",
      "第103轮， loss 0.000026\n",
      "第104轮， loss 0.000025\n",
      "第105轮， loss 0.000024\n",
      "第106轮， loss 0.000023\n",
      "第107轮， loss 0.000022\n",
      "第108轮， loss 0.000021\n",
      "第109轮， loss 0.000021\n",
      "第110轮， loss 0.000020\n",
      "第111轮， loss 0.000019\n",
      "第112轮， loss 0.000019\n",
      "第113轮， loss 0.000018\n",
      "第114轮， loss 0.000017\n",
      "第115轮， loss 0.000017\n",
      "第116轮， loss 0.000016\n",
      "第117轮， loss 0.000016\n",
      "第118轮， loss 0.000015\n",
      "第119轮， loss 0.000015\n",
      "第120轮， loss 0.000014\n",
      "第121轮， loss 0.000014\n",
      "第122轮， loss 0.000013\n",
      "第123轮， loss 0.000013\n",
      "第124轮， loss 0.000012\n",
      "第125轮， loss 0.000012\n",
      "第126轮， loss 0.000011\n",
      "第127轮， loss 0.000011\n",
      "第128轮， loss 0.000011\n",
      "第129轮， loss 0.000010\n",
      "第130轮， loss 0.000010\n",
      "训练后权重:w1:1.9405789859821 w2:3.0776311941659205 w3:3.981099362696182\n"
     ]
    },
    {
     "data": {
      "image/png": "[encoded data removed]",
      "text/plain": [
       "<Figure size 640x480 with 1 Axes>"
      ]
     },
     "metadata": {},
     "output_type": "display_data"
    }
   ],
   "source": [
    "\n",
    "# 权重随机初始化\n",
    "w1, w2, w3 = -1, 0, 1\n",
    "\n",
    "# 学习率设置\n",
    "lr = 0.1\n",
    "\n",
    "# 训练过程\n",
    "for epoch in range(1000):\n",
    "    epoch_loss = 0\n",
    "    for x, y_true in zip(X, Y):\n",
    "        y_pred = func(x)\n",
    "        epoch_loss += loss(y_pred, y_true)\n",
    "        #梯度计算\n",
    "        grad_w1 = 2 * (y_pred - y_true) * x ** 2\n",
    "        grad_w2 = 2 * (y_pred - y_true) * x \n",
    "        grad_w3 = 2 * (y_pred - y_true) \n",
    "        #权重更新\n",
    "        w1 = w1 - lr * grad_w1  #sgd \n",
    "        w2 = w2 - lr * grad_w2 \n",
    "        w3 = w3 - lr * grad_w3 \n",
    "        \n",
    "    epoch_loss /= len(X)\n",
    "    print(\"第%d轮， loss %f\" %(epoch, epoch_loss))\n",
    "    if epoch_loss < 0.00001:\n",
    "        break\n",
    "\n",
    "print(f\"训练后权重:w1:{w1} w2:{w2} w3:{w3}\")\n",
    "\n",
    "#使用训练后模型输出预测值\n",
    "Yp = [func(i) for i in X] \n",
    "\n",
    "#预测值与真实值比对数据分布\n",
    "pyplot.scatter(X, Y, color=\"red\")\n",
    "pyplot.scatter(X, Yp)\n",
    "pyplot.show()\n",
    "\n"
   ]
  },
  {
   "cell_type": "markdown",
   "id": "49842638-af60-4cdc-bbf5-fc4164c9c9a0",
   "metadata": {
    "jp-MarkdownHeadingCollapsed": true
   },
   "source": [
    "# 6.homework Torch Demo"
   ]
  },
  {
   "cell_type": "code",
   "execution_count": 163,
   "id": "30a46981-7cc1-446c-b07f-0370483b6694",
   "metadata": {},
   "outputs": [],
   "source": [
    "import torch\n",
    "import torch.nn as nn \n",
    "import numpy as np\n",
    "import random\n",
    "import json\n",
    "import matplotlib.pyplot as plt"
   ]
  },
  {
   "cell_type": "markdown",
   "id": "87c1677a-bd9d-4d2f-bdaa-e86f70244e15",
   "metadata": {},
   "source": [
    "基于pytorch框架编写模型训练\n",
    "实现一个自行构造的找规律(机器学习)任务\n",
    "规律：x是一个5维向量，如果第1个数>第5个数，则为正样本，反之为负样本"
   ]
  },
  {
   "cell_type": "code",
   "execution_count": 172,
   "id": "416cff53-3751-4099-85cd-c1b5acb702d8",
   "metadata": {},
   "outputs": [],
   "source": [
    "class TorchModel(nn.Module):\n",
    "    def __init__(self, input_size):\n",
    "        super(TorchModel, self).__init__()\n",
    "        self.linear = nn.Linear(input_size, 1)  # 线性层\n",
    "        self.activation = torch.sigmoid  # sigmoid归一化函数\n",
    "        self.loss = nn.functional.mse_loss  # loss函数采用均方差损失\n",
    "\n",
    "    # 当输入真实标签，返回loss值；无真实标签，返回预测值\n",
    "    def forward(self, x, y=None):\n",
    "        x = self.linear(x)  # (batch_size, input_size) -> (batch_size, 1)\n",
    "        y_pred = self.activation(x)  # (batch_size, 1) -> (batch_size, 1)\n",
    "        if y is not None:\n",
    "            return self.loss(y_pred, y)  # 预测值和真实值计算损失\n",
    "        else:\n",
    "            return y_pred  # 输出预测结果"
   ]
  },
  {
   "cell_type": "code",
   "execution_count": 173,
   "id": "6b4db842-d2fe-4382-a0c6-d01d6ab72cd5",
   "metadata": {},
   "outputs": [],
   "source": [
    "\n",
    "# 生成一个样本, 样本的生成方法，代表了我们要学习的规律\n",
    "# 随机生成一个5维向量，如果第一个值大于第五个值，认为是正样本，反之为负样本\n",
    "def build_sample():\n",
    "    x = np.random.random(5)\n",
    "    if x[0] > x[4]:\n",
    "        return x, 1\n",
    "    else:\n",
    "        return x, 0"
   ]
  },
  {
   "cell_type": "code",
   "execution_count": 174,
   "id": "4d35f936-ddc7-4f7e-a294-61e441f2a504",
   "metadata": {},
   "outputs": [],
   "source": [
    "\n",
    "# 随机生成一批样本\n",
    "# 正负样本均匀生成\n",
    "def build_dataset(total_sample_num):\n",
    "    X = []\n",
    "    Y = []\n",
    "    for i in range(total_sample_num):\n",
    "        x, y = build_sample()\n",
    "        X.append(x)\n",
    "        Y.append([y])\n",
    "    return torch.FloatTensor(X), torch.FloatTensor(Y)"
   ]
  },
  {
   "cell_type": "code",
   "execution_count": 175,
   "id": "493a4bb6-ec02-435e-94bb-252a7c690818",
   "metadata": {},
   "outputs": [],
   "source": [
    "# 测试代码\n",
    "# 用来测试每轮模型的准确率\n",
    "def evaluate(model):\n",
    "    model.eval()\n",
    "    test_sample_num = 100\n",
    "    x, y = build_dataset(test_sample_num)\n",
    "    print(\"本次预测集中共有%d个正样本，%d个负样本\" % (sum(y), test_sample_num - sum(y)))\n",
    "    correct, wrong = 0, 0\n",
    "    with torch.no_grad():\n",
    "        y_pred = model(x)  # 模型预测\n",
    "        for y_p, y_t in zip(y_pred, y):  # 与真实标签进行对比\n",
    "            if float(y_p) < 0.5 and int(y_t) == 0:\n",
    "                correct += 1  # 负样本判断正确\n",
    "            elif float(y_p) >= 0.5 and int(y_t) == 1:\n",
    "                correct += 1  # 正样本判断正确\n",
    "            else:\n",
    "                wrong += 1\n",
    "    print(\"正确预测个数：%d, 正确率：%f\" % (correct, correct / (correct + wrong)))\n",
    "    return correct / (correct + wrong)\n"
   ]
  },
  {
   "cell_type": "code",
   "execution_count": 176,
   "id": "91054201-771a-4d17-a898-259a5ac93f35",
   "metadata": {},
   "outputs": [],
   "source": [
    "\n",
    "\n",
    "def main():\n",
    "    # 配置参数\n",
    "    epoch_num = 20  # 训练轮数\n",
    "    batch_size = 20  # 每次训练样本个数\n",
    "    train_sample = 5000  # 每轮训练总共训练的样本总数\n",
    "    input_size = 5  # 输入向量维度\n",
    "    learning_rate = 0.001  # 学习率\n",
    "    # 建立模型\n",
    "    model = TorchModel(input_size)\n",
    "    # 选择优化器\n",
    "    optim = torch.optim.Adam(model.parameters(), lr=learning_rate)\n",
    "    log = []\n",
    "    # 创建训练集，正常任务是读取训练集\n",
    "    train_x, train_y = build_dataset(train_sample)\n",
    "    # 训练过程\n",
    "    for epoch in range(epoch_num):\n",
    "        model.train()\n",
    "        watch_loss = []\n",
    "        for batch_index in range(train_sample // batch_size):    \n",
    "            x = train_x[batch_index * batch_size : (batch_index + 1) * batch_size]\n",
    "            y = train_y[batch_index * batch_size : (batch_index + 1) * batch_size]\n",
    "            loss = model(x, y)  # 计算loss\n",
    "            loss.backward()  # 计算梯度\n",
    "            optim.step()  # 更新权重\n",
    "            optim.zero_grad()  # 梯度归零\n",
    "            watch_loss.append(loss.item())\n",
    "        print(\"=========\\n第%d轮平均loss:%f\" % (epoch + 1, np.mean(watch_loss)))\n",
    "        acc = evaluate(model)  # 测试本轮模型结果\n",
    "        log.append([acc, float(np.mean(watch_loss))])\n",
    "    # 保存模型\n",
    "    torch.save(model.state_dict(), \"model.pt\")\n",
    "    # 画图\n",
    "    print(log)\n",
    "    plt.plot(range(len(log)), [l[0] for l in log], label=\"acc\")  # 画acc曲线\n",
    "    plt.plot(range(len(log)), [l[1] for l in log], label=\"loss\")  # 画loss曲线\n",
    "    plt.legend()\n",
    "    plt.show()\n",
    "    return"
   ]
  },
  {
   "cell_type": "code",
   "execution_count": 177,
   "id": "13b12b64-a4ff-40fc-99c4-3c570104fd53",
   "metadata": {},
   "outputs": [],
   "source": [
    "# 使用训练好的模型做预测\n",
    "def predict(model_path, input_vec):\n",
    "    input_size = 5\n",
    "    model = TorchModel(input_size)\n",
    "    model.load_state_dict(torch.load(model_path))  # 加载训练好的权重\n",
    "    print(model.state_dict())\n",
    "\n",
    "    model.eval()  # 测试模式\n",
    "    with torch.no_grad():  # 不计算梯度\n",
    "        result = model.forward(torch.FloatTensor(input_vec))  # 模型预测\n",
    "    for vec, res in zip(input_vec, result):\n",
    "        print(\"输入：%s, 预测类别：%d, 概率值：%f\" % (vec, round(float(res)), res))  # 打印结果\n",
    "\n"
   ]
  },
  {
   "cell_type": "code",
   "execution_count": 178,
   "id": "033437d3-fffc-4237-9f87-52c8d5bcdb4d",
   "metadata": {},
   "outputs": [
    {
     "name": "stdout",
     "output_type": "stream",
     "text": [
      "=========\n",
      "第1轮平均loss:0.256150\n",
      "本次预测集中共有51个正样本，49个负样本\n",
      "正确预测个数：58, 正确率：0.580000\n",
      "=========\n",
      "第2轮平均loss:0.239341\n",
      "本次预测集中共有48个正样本，52个负样本\n",
      "正确预测个数：85, 正确率：0.850000\n",
      "=========\n",
      "第3轮平均loss:0.224263\n",
      "本次预测集中共有63个正样本，37个负样本\n",
      "正确预测个数：88, 正确率：0.880000\n",
      "=========\n",
      "第4轮平均loss:0.210533\n",
      "本次预测集中共有54个正样本，46个负样本\n",
      "正确预测个数：90, 正确率：0.900000\n",
      "=========\n",
      "第5轮平均loss:0.198086\n",
      "本次预测集中共有46个正样本，54个负样本\n",
      "正确预测个数：92, 正确率：0.920000\n",
      "=========\n",
      "第6轮平均loss:0.186839\n",
      "本次预测集中共有54个正样本，46个负样本\n",
      "正确预测个数：93, 正确率：0.930000\n",
      "=========\n",
      "第7轮平均loss:0.176692\n",
      "本次预测集中共有45个正样本，55个负样本\n",
      "正确预测个数：98, 正确率：0.980000\n",
      "=========\n",
      "第8轮平均loss:0.167539\n",
      "本次预测集中共有50个正样本，50个负样本\n",
      "正确预测个数：97, 正确率：0.970000\n",
      "=========\n",
      "第9轮平均loss:0.159274\n",
      "本次预测集中共有46个正样本，54个负样本\n",
      "正确预测个数：95, 正确率：0.950000\n",
      "=========\n",
      "第10轮平均loss:0.151797\n",
      "本次预测集中共有53个正样本，47个负样本\n",
      "正确预测个数：96, 正确率：0.960000\n",
      "=========\n",
      "第11轮平均loss:0.145018\n",
      "本次预测集中共有45个正样本，55个负样本\n",
      "正确预测个数：100, 正确率：1.000000\n",
      "=========\n",
      "第12轮平均loss:0.138855\n",
      "本次预测集中共有45个正样本，55个负样本\n",
      "正确预测个数：97, 正确率：0.970000\n",
      "=========\n",
      "第13轮平均loss:0.133235\n",
      "本次预测集中共有50个正样本，50个负样本\n",
      "正确预测个数：98, 正确率：0.980000\n",
      "=========\n",
      "第14轮平均loss:0.128096\n",
      "本次预测集中共有43个正样本，57个负样本\n",
      "正确预测个数：100, 正确率：1.000000\n",
      "=========\n",
      "第15轮平均loss:0.123383\n",
      "本次预测集中共有54个正样本，46个负样本\n",
      "正确预测个数：97, 正确率：0.970000\n",
      "=========\n",
      "第16轮平均loss:0.119048\n",
      "本次预测集中共有56个正样本，44个负样本\n",
      "正确预测个数：98, 正确率：0.980000\n",
      "=========\n",
      "第17轮平均loss:0.115051\n",
      "本次预测集中共有43个正样本，57个负样本\n",
      "正确预测个数：96, 正确率：0.960000\n",
      "=========\n",
      "第18轮平均loss:0.111355\n",
      "本次预测集中共有47个正样本，53个负样本\n",
      "正确预测个数：99, 正确率：0.990000\n",
      "=========\n",
      "第19轮平均loss:0.107929\n",
      "本次预测集中共有53个正样本，47个负样本\n",
      "正确预测个数：98, 正确率：0.980000\n",
      "=========\n",
      "第20轮平均loss:0.104747\n",
      "本次预测集中共有49个正样本，51个负样本\n",
      "正确预测个数：99, 正确率：0.990000\n",
      "[[0.58, 0.25614997500181197], [0.85, 0.23934072083234786], [0.88, 0.2242629755139351], [0.9, 0.2105329824090004], [0.92, 0.19808569127321243], [0.93, 0.18683858841657638], [0.98, 0.17669184863567353], [0.97, 0.16753878927230834], [0.95, 0.1592739081978798], [0.96, 0.15179746264219285], [1.0, 0.14501834163069724], [0.97, 0.13885493060946463], [0.98, 0.13323521438241004], [1.0, 0.1280962007045746], [0.97, 0.12338308718800545], [0.98, 0.11904833981394768], [0.96, 0.11505081397294999], [0.99, 0.11135475343465805], [0.98, 0.10792908224463463], [0.99, 0.10474671743810177]]\n"
     ]
    },
    {
     "data": {
      "image/png": "[encoded data removed]",
      "text/plain": [
       "<Figure size 640x480 with 1 Axes>"
      ]
     },
     "metadata": {},
     "output_type": "display_data"
    },
    {
     "name": "stdout",
     "output_type": "stream",
     "text": [
      "OrderedDict([('linear.weight', tensor([[ 2.9408, -0.0077, -0.1340,  0.0477, -2.8505]])), ('linear.bias', tensor([-0.0252]))])\n",
      "输入：[0.07889086, 0.15229675, 0.31082123, 0.03504317, 0.18920843], 预测类别：0, 概率值：0.407652\n",
      "输入：[0.94963533, 0.5524256, 0.95758807, 0.95520434, 0.84890681], 预测类别：1, 概率值：0.564802\n",
      "输入：[0.78797868, 0.67482528, 0.13625847, 0.34675372, 0.19871392], 预测类别：1, 概率值：0.847961\n",
      "输入：[0.19349776, 0.59416669, 0.92579291, 0.41567412, 0.7358894], 预测类别：0, 概率值：0.159412\n"
     ]
    }
   ],
   "source": [
    "\n",
    "if __name__ == \"__main__\":\n",
    "    main()\n",
    "    test_vec = [[0.07889086,0.15229675,0.31082123,0.03504317,0.18920843],\n",
    "                [0.94963533,0.5524256,0.95758807,0.95520434,0.84890681],\n",
    "                [0.78797868,0.67482528,0.13625847,0.34675372,0.19871392],\n",
    "                [0.19349776,0.59416669,0.92579291,0.41567412,0.7358894]]\n",
    "    predict(\"model.pt\", test_vec)"
   ]
  },
  {
   "cell_type": "code",
   "execution_count": null,
   "id": "fae3283e-d9f2-43a1-bb2b-1c9ea751270c",
   "metadata": {},
   "outputs": [],
   "source": []
  },
  {
   "cell_type": "markdown",
   "id": "bd0032e3",
   "metadata": {},
   "source": [
    "# 7.Homework - 5 classification"
   ]
  },
  {
   "cell_type": "code",
   "execution_count": 159,
   "id": "531566d4",
   "metadata": {},
   "outputs": [],
   "source": [
    "import torch\n",
    "import torch.nn as nn \n",
    "import numpy as np\n",
    "import random\n",
    "import json\n",
    "import matplotlib.pyplot as plt"
   ]
  },
  {
   "cell_type": "code",
   "execution_count": 230,
   "id": "2663bbc7-17a8-483b-9a88-178d61289f70",
   "metadata": {},
   "outputs": [],
   "source": [
    "class TorchModel(nn.Module):\n",
    "    def __init__(self, input_size, hidden_len=128):\n",
    "        super(TorchModel, self).__init__()\n",
    "        self.linear1 = nn.Linear(input_size, hidden_len)  # 线性层\n",
    "        self.linear2 = nn.Linear(hidden_len, 5)\n",
    "        self.activation = torch.sigmoid  # sigmoid归一化函数\n",
    "\n",
    "    # 当输入真实标签，返回loss值；无真实标签，返回预测值\n",
    "    def forward(self, x, y=None):\n",
    "        x1 = self.linear1(x)  # (batch_size, input_size) -> (batch_size, 1)\n",
    "        x2 = self.activation(x1)  # (batch_size, 1) -> (batch_size, 1)\n",
    "        x3 = self.linear2(x2)\n",
    "        x4 = self.activation(x3)\n",
    "        logits = x4\n",
    "        return logits"
   ]
  },
  {
   "cell_type": "code",
   "execution_count": 231,
   "id": "7c12475a",
   "metadata": {},
   "outputs": [],
   "source": [
    "loss_fn = nn.CrossEntropyLoss()"
   ]
  },
  {
   "cell_type": "code",
   "execution_count": 232,
   "id": "c5e52d00-b064-4a6f-a1fa-b02251ac4a15",
   "metadata": {},
   "outputs": [],
   "source": [
    "# 生成一个样本, 样本的生成方法，代表了我们要学习的规律\n",
    "# 随机生成一个5维向量，如果第一个值大于第五个值，认为是正样本，反之为负样本\n",
    "def build_a_sample():\n",
    "    x = np.random.random(5)\n",
    "    y = np.argmax(x,axis=0)\n",
    "    return x,y"
   ]
  },
  {
   "cell_type": "code",
   "execution_count": 233,
   "id": "bcd55a82-9fea-482e-aa5d-5bcd44399789",
   "metadata": {},
   "outputs": [
    {
     "data": {
      "text/plain": [
       "(array([0.48833906, 0.49082787, 0.84367049, 0.00572083, 0.70968432]), 2)"
      ]
     },
     "execution_count": 233,
     "metadata": {},
     "output_type": "execute_result"
    }
   ],
   "source": [
    "build_a_sample()"
   ]
  },
  {
   "cell_type": "code",
   "execution_count": 234,
   "id": "b5942166-a295-480d-acb4-fb9a57aba260",
   "metadata": {},
   "outputs": [],
   "source": [
    "# 随机生成一批样本\n",
    "# 正负样本均匀生成\n",
    "def build_dataset(total_sample_num):\n",
    "    X = []\n",
    "    Y = []\n",
    "    for i in range(total_sample_num):\n",
    "        x, y = build_a_sample()\n",
    "        X.append(x)\n",
    "        Y.append(y)\n",
    "    return torch.FloatTensor(X), torch.FloatTensor(Y)"
   ]
  },
  {
   "cell_type": "code",
   "execution_count": 235,
   "id": "70a71918-00de-470f-a0c0-f1cf996c18d6",
   "metadata": {},
   "outputs": [],
   "source": [
    "trainSet = build_dataset(100000)\n",
    "testSet = build_dataset(10000)"
   ]
  },
  {
   "cell_type": "code",
   "execution_count": 236,
   "id": "20ce0daa-f7b2-410d-b605-2226555a2388",
   "metadata": {},
   "outputs": [
    {
     "data": {
      "text/plain": [
       "(tensor([[0.8211, 0.8244, 0.7574, 0.8854, 0.0874],\n",
       "         [0.0532, 0.6339, 0.7593, 0.6670, 0.8932],\n",
       "         [0.4501, 0.1689, 0.6588, 0.7138, 0.8770],\n",
       "         ...,\n",
       "         [0.4440, 0.3111, 0.6210, 0.8022, 0.9158],\n",
       "         [0.6155, 0.1369, 0.5518, 0.5808, 0.3790],\n",
       "         [0.0249, 0.3010, 0.8821, 0.2890, 0.1748]]),\n",
       " tensor([3., 4., 4.,  ..., 4., 0., 2.]))"
      ]
     },
     "execution_count": 236,
     "metadata": {},
     "output_type": "execute_result"
    }
   ],
   "source": [
    "trainSet"
   ]
  },
  {
   "cell_type": "code",
   "execution_count": 237,
   "id": "83f5f933-0f85-4328-b5e6-9076499d2565",
   "metadata": {},
   "outputs": [],
   "source": [
    "model = TorchModel(5, hidden_len=32)\n",
    "\n",
    "epoch = 20\n",
    "batch_size = 20\n",
    "train_sample = 5000\n",
    "input_size = 5\n",
    "lr = 1e-3\n",
    "\n",
    "model = TorchModel(input_size)\n",
    "optimizer = torch.optim.Adam(model.parameters(), lr=lr)\n",
    "log = []\n",
    "\n",
    "train_X, train_Y = build_dataset(train_sample)"
   ]
  },
  {
   "cell_type": "code",
   "execution_count": 238,
   "id": "d3012dfc-90d6-404c-b976-6b78de23a50c",
   "metadata": {},
   "outputs": [],
   "source": [
    "def evaluate(model):\n",
    "    model.eval()\n",
    "\n",
    "    total = len(testSet[0])\n",
    "    correct = 0\n",
    "    X, Y = testSet\n",
    "    with torch.no_grad():\n",
    "        logits = model(X)\n",
    "    pred = logits.argmax(-1)\n",
    "    correct += torch.sum(pred == Y)\n",
    "    print(\"正确预测个数：%d,总数: %d, 正确率：%f\" % (correct,total, correct / total))\n",
    "    return correct / total"
   ]
  },
  {
   "cell_type": "code",
   "execution_count": 239,
   "id": "e8c724bb-39e4-46a1-a089-6786cf38f445",
   "metadata": {},
   "outputs": [
    {
     "name": "stdout",
     "output_type": "stream",
     "text": [
      "正确预测个数：1964,总数: 10000, 正确率：0.196400\n"
     ]
    },
    {
     "data": {
      "text/plain": [
       "tensor(0.1964)"
      ]
     },
     "execution_count": 239,
     "metadata": {},
     "output_type": "execute_result"
    }
   ],
   "source": [
    "evaluate(model)"
   ]
  },
  {
   "cell_type": "code",
   "execution_count": 240,
   "id": "a6d0762a-7c8b-4a3d-8eb6-209951d662ee",
   "metadata": {},
   "outputs": [],
   "source": [
    "def train():\n",
    "    for epoch_idx in range(epoch):\n",
    "        model.train()\n",
    "        watch_loss = []\n",
    "        for batch_idx in range(train_sample // batch_size):\n",
    "            x = train_X[batch_idx * batch_size: (batch_idx + 1) * batch_size]\n",
    "            y = train_Y[batch_idx * batch_size: (batch_idx + 1) * batch_size]\n",
    "            y = y.long()\n",
    "            logits = model(x,y)\n",
    "            loss = loss_fn(logits, y)\n",
    "            loss.backward()\n",
    "            optimizer.step()\n",
    "            optimizer.zero_grad()\n",
    "            watch_loss.append(loss.item())\n",
    "        print(\"avg loss: {}\".format(np.mean(watch_loss)))\n",
    "        acc = evaluate(model)\n",
    "        log.append([acc, float(np.mean(watch_loss))])\n",
    "    torch.save(model.state_dict(), \"model5classification.pt\")\n",
    "    print(log)\n",
    "    plt.plot(range(len(log)), [l[0] for l in log], label=\"acc\")\n",
    "    plt.plot(range(len(log)), [l[1] for l in log], label=\"loss\")\n",
    "    plt.legend()\n",
    "    plt.show()"
   ]
  },
  {
   "cell_type": "code",
   "execution_count": 241,
   "id": "e27e5b59-71ae-4726-89f4-5b9eac250279",
   "metadata": {},
   "outputs": [
    {
     "name": "stdout",
     "output_type": "stream",
     "text": [
      "avg loss: 1.5888963294029237\n",
      "正确预测个数：4212,总数: 10000, 正确率：0.421200\n",
      "avg loss: 1.5329469432830811\n",
      "正确预测个数：7252,总数: 10000, 正确率：0.725200\n",
      "avg loss: 1.4456887049674987\n",
      "正确预测个数：8482,总数: 10000, 正确率：0.848200\n",
      "avg loss: 1.3505856547355652\n",
      "正确预测个数：9080,总数: 10000, 正确率：0.908000\n",
      "avg loss: 1.2764432020187377\n",
      "正确预测个数：9366,总数: 10000, 正确率：0.936600\n",
      "avg loss: 1.2262466955184936\n",
      "正确预测个数：9522,总数: 10000, 正确率：0.952200\n",
      "avg loss: 1.1924420609474182\n",
      "正确预测个数：9616,总数: 10000, 正确率：0.961600\n",
      "avg loss: 1.1687662625312805\n",
      "正确预测个数：9671,总数: 10000, 正确率：0.967100\n",
      "avg loss: 1.151432463169098\n",
      "正确预测个数：9696,总数: 10000, 正确率：0.969600\n",
      "avg loss: 1.1382360992431642\n",
      "正确预测个数：9726,总数: 10000, 正确率：0.972600\n",
      "avg loss: 1.1278590211868287\n",
      "正确预测个数：9745,总数: 10000, 正确率：0.974500\n",
      "avg loss: 1.1194798650741578\n",
      "正确预测个数：9754,总数: 10000, 正确率：0.975400\n",
      "avg loss: 1.1125650625228882\n",
      "正确预测个数：9768,总数: 10000, 正确率：0.976800\n",
      "avg loss: 1.1067544569969177\n",
      "正确预测个数：9769,总数: 10000, 正确率：0.976900\n",
      "avg loss: 1.101796597957611\n",
      "正确预测个数：9774,总数: 10000, 正确率：0.977400\n",
      "avg loss: 1.0975107617378235\n",
      "正确预测个数：9779,总数: 10000, 正确率：0.977900\n",
      "avg loss: 1.0937636380195617\n",
      "正确预测个数：9788,总数: 10000, 正确率：0.978800\n",
      "avg loss: 1.0904547815322876\n",
      "正确预测个数：9790,总数: 10000, 正确率：0.979000\n",
      "avg loss: 1.0875069751739501\n",
      "正确预测个数：9793,总数: 10000, 正确率：0.979300\n",
      "avg loss: 1.0848599071502685\n",
      "正确预测个数：9790,总数: 10000, 正确率：0.979000\n",
      "[[tensor(0.4212), 1.5888963294029237], [tensor(0.7252), 1.5329469432830811], [tensor(0.8482), 1.4456887049674987], [tensor(0.9080), 1.3505856547355652], [tensor(0.9366), 1.2764432020187377], [tensor(0.9522), 1.2262466955184936], [tensor(0.9616), 1.1924420609474182], [tensor(0.9671), 1.1687662625312805], [tensor(0.9696), 1.151432463169098], [tensor(0.9726), 1.1382360992431642], [tensor(0.9745), 1.1278590211868287], [tensor(0.9754), 1.1194798650741578], [tensor(0.9768), 1.1125650625228882], [tensor(0.9769), 1.1067544569969177], [tensor(0.9774), 1.101796597957611], [tensor(0.9779), 1.0975107617378235], [tensor(0.9788), 1.0937636380195617], [tensor(0.9790), 1.0904547815322876], [tensor(0.9793), 1.0875069751739501], [tensor(0.9790), 1.0848599071502685]]\n"
     ]
    },
    {
     "data": {
      "image/png": "[encoded data removed]",
      "text/plain": [
       "<Figure size 640x480 with 1 Axes>"
      ]
     },
     "metadata": {},
     "output_type": "display_data"
    }
   ],
   "source": [
    "train()"
   ]
  },
  {
   "cell_type": "code",
   "execution_count": null,
   "id": "50a2965d-eb9d-49b4-a9db-3b97e511326c",
   "metadata": {},
   "outputs": [],
   "source": []
  }
 ],
 "metadata": {
  "kernelspec": {
   "display_name": "Python 3 (ipykernel)",
   "language": "python",
   "name": "python3"
  },
  "language_info": {
   "codemirror_mode": {
    "name": "ipython",
    "version": 3
   },
   "file_extension": ".py",
   "mimetype": "text/x-python",
   "name": "python",
   "nbconvert_exporter": "python",
   "pygments_lexer": "ipython3",
   "version": "3.9.1"
  }
 },
 "nbformat": 4,
 "nbformat_minor": 5
}
